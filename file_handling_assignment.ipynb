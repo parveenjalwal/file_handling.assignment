{
  "nbformat": 4,
  "nbformat_minor": 0,
  "metadata": {
    "colab": {
      "provenance": []
    },
    "kernelspec": {
      "name": "python3",
      "display_name": "Python 3"
    },
    "language_info": {
      "name": "python"
    }
  },
  "cells": [
    {
      "cell_type": "markdown",
      "source": [
        "## theoritical protion"
      ],
      "metadata": {
        "id": "USQUk4vbyTek"
      }
    },
    {
      "cell_type": "code",
      "source": [],
      "metadata": {
        "id": "H1fFAZVByYLU"
      },
      "execution_count": null,
      "outputs": []
    },
    {
      "cell_type": "markdown",
      "source": [
        "1. What is the difference between interpreted and compiled languages ?\n",
        "  - compiled langauges = language such - c, c++ , java are considred as compiled langauges , here any sort of source code  firstly is trasfred into machine code by using compilation . In machine code get stored as bytcode , which can be read easily by cpu .\n",
        "  - intrprated language = python is considred as intrpator language , where our code is exicuted directly line by line , neither it get changed into machine code nor into bytcode . but in the ture sense our python interprator itself using compiler changes our source code into bytecode . morover that code is exicuted by python vartiual machine .\n",
        "\n",
        "\n",
        "2.  What is exception handling in Python ?\n",
        "   - whever we write any kind of suspicious code ( 5 / 0 )  in our programe that couses error so eventully it rasies exceptional error . what happen,  when error ouccures python stop the exicution of the code and return an big error massage morver rest code will not be exicuted in this case if written . so therefor we handle excetion , here either exception is captured by defining genric excetion or specific excetion will be written , by doing this we will be able to handle the error , and only that massage we have printed will be written on the place of that error instead big error .however error will exists there but this time python will not beak code flow neihter stop the rest code exicution\n",
        "\n",
        "\n",
        "3. F What is the purpose of the finally block in exception handling ?\n",
        "   - finally = usully it is written at the end of the code right after else block . this block will be exicuted on all circumstances wheather or not the try block is succussfull and  our code is entering inside except block . mean this is used to define something regarding our code for instance if we have opened a file  in our try block so we can close that file in finally block . mean it is used to keep our above code clean . in some cases it is used to perform some oprations which can not be done in except block .\n",
        "\n",
        "  \n",
        "4. What is logging in Python ?\n",
        "  - logging = it records the flow or state of our code / programe . mean it is helpfull to maintain or understend our code in more better way and debug the code . it shows the behaviour of our code .\n",
        "  - in some snarieos  we can understend when our code is changing the output over the time , so we can log some specific steps in pur code .\n",
        "  - suppose we have an enrimous code having hundred lines of code , mean we have a code flow so in that entire code flow some specific lines of code can be logged in by logging in order to understend code better .\n",
        "  - for instance at 5th step we have an empty list and at 6th step someone is trying to perform some opration over that list then we will get an error . in such cases we should log some info over that 5th step regarding the current state of our code .\n",
        "\n",
        "\n",
        "5. What is the significance of the __del__ method in Python ?\n",
        "  - __del__ = it is an basiclly dunder method . which has double underscore in the begning and in ending . it is genrally used to delete any function of class . suppose if we have multipe functions in our class and any perticller method we want to delete from class the this __del__ dunder method comes in handy . by defining that individual method  name along with  del function we will be able to delte that from class completly . afterwards that method will no longer exits in class despite still stored in the class.\n",
        "\n",
        "\n",
        "6. What is the difference between import and from ... import in Python ?\n",
        "  - from- import = when we are importing any module form any package this from- import is written comen . either  transfring something  from any package/ module . here from is used for the package and import is used for the module . In some cases we typcally use from - import to import sub - module form the  main module . enstance -( from os.path import dirname )\n",
        "\n",
        "  - import = on the other hand when we import any sort of module directly from the current enviorment form tha python  so this import is used . enstance = (import - os , sys , reduce ) here we are directly importing this module without defining the package .\n",
        "\n",
        "\n",
        "7. How can you handle multiple exceptions in Python ?\n",
        "  - multiple exceptions - in order to handle mutiple exception in our code we have two ways , elobrated ahead = either by writing two or more then two exception specifily in our single except block inside () braktes  or by defining the diffrent - diffrent excetion names  sepratly in except block of code . here when our try block will be unsuccfull and thow an exception error that time our python will chose the excetion from the defined exception written in except blocks itself , on the behalf of error . neddless to define manully . And if we are confused regared our code any its exception error then we may pass genric excetion explicity in diffrent except block right after the sepcific defined excetion .\n",
        "  - except (typeerror , nameerror ) as e: , print()  - one way\n",
        "  - 1. except modulenotofunderror as e: print (e) , 2. except zerodvisional error as e: print (e) defined both excetion in sperate blocks  \n",
        "\n",
        "\n",
        "8.  What is the purpose of the with statement when handling files in Python ?\n",
        "    -  while defining the files normally with using open .  after any creation or updation over file we have to close the file eventully at each and every time , which not only cosume time but also we have to write extra code of it .\n",
        "    - but on the other side by using with statment we dont have to close the file manully , with statement itself will close our file automaticlly right after the block of code get exicuted , ragardless what opration are bing done over the file after these operation file  will be closed . moreover we will be able to see the update in our file\n",
        "    - ultimatly to ve clean by using with we can perform multiple oprations over our file in on go . here needles to oepn - close file over and over .opening and closing will be done by with in one go  .\n",
        "\n",
        "\n",
        "9. What is the difference between multithreading and multiprocessing ?\n",
        "   - mutiprocessing = in mutiprocessing  multiple processor/ cores are used , mean our process of programe is exicuted over multiple cores/ processor . due to that any code can work parllely . it reduce the exction of time .mean if we have function called addtion () which take 2 second in exicution and we are calling this function 5 times despite that it will take second , this is the identification of mutiprocessing  \n",
        "   -  multithreading = In multithreading our process is devided inot multiple threads . here thread is the smallest part of any processor . so in multithreading only one processor/ core is used and over that core when any process of progrmme enters it gets devide  into multiple threads . mean when our process is exicuted over the core/ processor then multiple threads are used . this process is know as multithreading .\n",
        "   - here one core is taking multiple threads concrently not parllely asif multiprocessing does .\n",
        "\n",
        "\n",
        "10.  What are the advantages of using logging in a program ?\n",
        "   - logging = 1 it heplps us to undertand how our code changes the output over the time .\n",
        "    - 2. we can understend and moniter the code better even debug the code to figure out issus in our code .\n",
        "\n",
        "    - 3. Even logging has levels - info ,dubug , warning , eror , critical . these each level has its own meanning and level stage . debug is considred the lowest level in addtion critical is considred the highest level . so we can log some information in our code on the behalf of above written levels . which helps to understend  code in more easy way .\n",
        "\n",
        "    - 4. when we log somthing in our code to some specific steps then by level like info , wraning then it will get more easir for any other developer to read our code more easly .\n",
        "    - these are the some levrages of logging .\n",
        "\n",
        "\n",
        "11. What is memory management in Python ?\n",
        "    - memory management = in pytho when we read and write any file that time it is stored in our machine memory by python . memory  managment refers to the process of allocating and rycyling or reallocating the memory of objects . python has dynamic mamory managment system . which handles the most memory relvent task autmaticlly . makes it more easies for the developers to concertrate over writeing code rather then handling memory manully .  \n",
        "    - dynamic memory type\n",
        "    - python uses dynamic memory managment mean varriables data type is determind at runtime\n",
        "    - memory is allocated dynamiclly for the objects when they are created .\n",
        "\n",
        "\n",
        "12. What are the basic steps involved in exception handling in Python ?\n",
        "    - exception handling - elobration of steps for exception handling\n",
        "    - here first we have to identyfy wheather our code is suspicous or not , and if code is causing error then which type of error we can expect their .\n",
        "    - exception is usully handled by try catch box .\n",
        "    - in try : box we write our code , then our try box will try hard to exicute that code , if not possible then it will cause an excetion error . in this circumstance only our code will enter in except block\n",
        "    - except block : print() - here if try block is returning exception error then exept block will capture that error by using genric excetion parent class and afterwards the print block of code gets exciuted .\n",
        "    - even in except block on the place of genric exception we can define sepcific exception name if we know .\n",
        "    - this is how we can handle any excetion , but there are some other things left ,\n",
        "    - else block - if our code is not suspicous and not throwing exceptional error that time our code must not enter in except block , in this case else block get exicuted , whatver operation we have performed in else block will get exicuted , but not if try block is thowing excetion error and entring in except block .\n",
        "    - this is the entire process of excetion handing .\n",
        "\n",
        "  \n",
        "13.  Why is memory management important in Python ?\n",
        "     - in python as we know dynamic mamory managment works . mean all memory mangment is handled by python itself not by any autmatically. we needless to handle memory manully . which makes this language more apprpritate\n",
        "     - naccessty of memory managment = when we write any python varraible so its data get stored at runtime . so later we can access that stored data of that perticuller varraible  again , it,s possible beause of dynamic memory managment .\n",
        "     - even meomry is allocated to objects dynamiclly , when they are created , later can be accessed their respetive clsses by objects only .  \n",
        "     - all kind of files we create and store data inside them also stored inside memory , therefor retrived easly after crestion .\n",
        "     - ultimalty to be clear that memory menagment is very essintial for any python , by the help of this any kind of data can be retrived esily and perform some opration .\n",
        "\n",
        "\n",
        "14. What is the role of try and except in exception handling ?\n",
        "    - try: inside this block always code is written after the code this block trys to exciute the code , if the written code is suspicius and causing any error then try block will throw an exceptional error . eventlly it job is to check the code if not suspicious then exicute it otherwise raise an error .\n",
        "    - except = here usully either specfic excetional name or genric excetion is passed in order to handle the error . if try block thowned an error then that code will enter inside except block , firstly the excptional error will be handled by exception parent class morover the print statement of the class will be exciuted . so this block handle the excption error and exciute the print statment which may include the error massage as well as some sepcific massage .\n",
        "\n",
        "  \n",
        "15.  How does Python's garbage collection system work ?\n",
        "     - python garbage collection system is responsible for managing the memory by freeing up the perticuller memory which is not longer usable . it typcally uses the two macanicism = refrence counting and python garbage collector\n",
        "     - Reference Counting: Each object in Python has a reference count that tracks the number of references to it. When the reference count drops to zero, the memory occupied by the object is deallocated.\n",
        "    - Cyclic Garbage Collector: Python handles cycles of references (e.g., objects referring to each other) using a cyclic garbage collector, which detects and cleans up these cycles.\n",
        "\n",
        "\n",
        "16. What is the purpose of the else block in exception handling ?\n",
        "   - else = working - when our try block has been  successfull or not returining any sort of exceptional error then our code must not enter inside except block in this case only our else block will be exicuted . Not when try block is raising an and our code in entering inside except block . for easy understending == suppose we are creating any file in try block in wite mode despite file does not exit but new file will be succsufully crearted there in this situation try code will be exicuted and our code must not enter in except block , so here we know else block is going to be exicuted then we can write some data and clse the file , after the code exction both task which has been perfomred inside else block will be exicuted . our file will have some data and file will be in close mode . so we will be able to access our file ..\n",
        "\n",
        "\n",
        "17.  What are the common logging levels in Python ?\n",
        "    - logging has level which and each and evel level is diffrent from other . logging level is typiclly defined while writng any log config file . lggiing has five commen levels . debug , info , warning , error , critical\n",
        "     - debug - it is the lowest level of logging , it cotians an massage reagrding our code , help us in debuging\n",
        "    - info  - it conveys a massage that our code is wokring fine , seconds last level\n",
        "    - warning = it tells that in our code some is exceptional\n",
        "    - error = here some error is being occured in our code\n",
        "    - critical = it is the highest level of our code , and it trminates our code is something is excetional\n",
        "\n",
        "  - level = if we have defined wraning in level section in confing that time our logg will be started from warning level onwards and go forward , mean only warning , error and critical level will be considred not bellow level then warning like - debug / info ..\n",
        "\n",
        "\n",
        "18.  What is the difference between os.fork() and multiprocessing in Python ?\n",
        "    - multiprocessing = IN multiprocessing multiple proccser are used together , mean our process of programe / code is exicuted over multiple cores . so multiple function can be exicuted parllely .  it reduces the excution time of functions . make code more scalable and easy to read / understend . multiple core means = 4,6,8 core together at any process\n",
        "\n",
        "    - os.fork() = it is an method which is imported form os module . this is used to create an new child process by duplicating the current process . it is not found in windows oprating systmes only in macor or linux os . And it makes it diffrent it from multiprocessing .\n",
        "\n",
        "\n",
        "19. What is the importance of closing a file in Python ?\n",
        "    - closing a file = in python closing any file is very essential , elobration if are creating any file and we have written some data inside that file , and file is opned ,has not been closed after oprations , in this situation we wont be able to see that data which has been written earlier due to file currnet state , mean to see any update in our file then while doing any opration we have to close it then only we will be able to see that data . even if file is opned then our file get locked any we can not open that file again for new update nor we perfrom any updation . in order to close any file we are to write - ( file1.close()) . but now we have very easy we where needess to keep closing our files after creation and updation .\n",
        "    - with statement - it closes our file autmaticlly right after the block of code get excited mean  once the defined task get exicuted .\n",
        "\n",
        "\n",
        "20. What is the difference between file.read() and file.readline() in Python ?\n",
        "    - file.read() - it is used to read our file . very first time we have to open our file . whom we want to read . basiclly it reads our intire file , but twist is that here by writng this line we will get empty string . becuse by this our courser in file lends in the last . so we have to ring our courser in the begning in order to read our file comepletly by file.read() . here file.seek(0) comes in light . what it does is , it brings courser into first place in our file . afterwards this file.read() is used and this time it will read our file easly due to courser postion which has come at firt place . so here we should keep in mind that seek(0) is very neccesry .\n",
        "\n",
        "  - file.readline() = it basiclly does not read the entire file instead first line of the code . this is for this context in know for . here we dont need to bring our courser at first postion .\n",
        "\n",
        "\n",
        "21. What is the logging module in Python used for ?  \n",
        "   -  modele logging = In python this module is used to create an log config files and define its levels . in order to log something in our code first we have to import logging module  otherwise logging will not work .if we have not imported logging despite that if we try to use logging it will thow an error . logging levels and even if want to log at any specific task in any code then firsly should have logging module .\n",
        "\n",
        "\n",
        "22. What is the os module in Python used for in file handling ?\n",
        "     - os.module = os mean oprating system , it gives functionllity to intract with our oprating system . by using os module we can create single directory as well as multiple directories in our current directories .\n",
        "     - os is used to delete any file or even direcories from our current directories .\n",
        "     - by using os we are able to access any file size by passing file name along with - os.get.pathsize()\n",
        "     - to figure out existence of any file wheather or not the file exists .\n",
        "     - even os is used while tranfring function from any package / module to another .\n",
        "     - apart from above os module has sevrel use case , which makes this module very essential in file handling specificly .\n",
        "\n",
        "\n",
        "23. What are the challenges associated with memory management in Python ?\n",
        "  - as we know python dynimiclly manages the memory itself . we dont need to mange manully  but if it is done by pthon then it must bring some chellenges with itself .\n",
        "  - memory leaks =  Even with automatic memory management, Python programs can still experience memory leaks. This happens when memory that is no longer needed is not released due to:\n",
        "  - memory fragmention = it can occer when memory is alocated and reallocated in contaigous block . python memory managment can optimize can allocate small memory . but large objects and complex allocation can lead to fragmentation\n",
        "  - memory usage = python dynmic typing and hight level abstration can lead to hight level memory usage rather then low memory language .\n",
        "\n",
        "\n",
        "\n",
        "24.  How do you raise an exception manually in Python ?\n",
        "     - in order to raise excetion manully - for this we can use coustom excetion where . for instance we have number and function that function chekcs wehather the number is negetive or positve , if psitive it rasies an error , in order to do thsi first we will make own coustom excetion inside that we will pass parent excetion class . afterwards while making logic we will pass our above function which checks number in try block along with input which is being taken from the user .and above manully made excetion in our except block whenver user will give negetive value our excetion will create an eror . elobration -\n",
        "\n",
        "     - def check_num(numb):\n",
        "  if numb < 0:\n",
        "     raise  is_valid(f\"this {numb } is not valid \")\n",
        "  else:\n",
        "     raise  is_valid(f\"this {numb} is valid and positive\")   \n",
        "\n",
        "\n",
        "\n",
        "class is_valid(Exception):\n",
        "  def __init__(self,m):\n",
        "    self.m =m\n",
        "    \n",
        "\n",
        "try:\n",
        "  numb = int(input(\"number\"))\n",
        "  check_num(numb)\n",
        "except is_valid as e:\n",
        "  print(\"the error is :\",e)\n",
        "\n",
        "\n",
        "\n",
        "\n",
        "25. Why is it important to use multithreading in certain applications ?\n",
        "    - mutlithreading = here multiple threads are being exicuted over one core/ processer , therofor the excition speed of our code gets reduced substancilly .\n",
        "    - usecase = it is best for some tasks that are part of some application and need to share data and resources .\n",
        "     - when we are openning multiple tabs in any borwser that time also mutlithreading plays an cruical role .\n",
        "    - or downloding any files .\n",
        "\n",
        "\n",
        "\n",
        "\n",
        "    \n",
        "\n",
        "\n",
        "\n",
        "\n",
        "  "
      ],
      "metadata": {
        "id": "4CrFMlesyY1K"
      }
    },
    {
      "cell_type": "markdown",
      "source": [
        "## practical qustions"
      ],
      "metadata": {
        "id": "c4KWM5cgz6VJ"
      }
    },
    {
      "cell_type": "code",
      "source": [
        "#1. How can you open a file for writing in Python and write a string to it ?\n",
        "with open (\"file1.txt\",\"w\") as f1:\n",
        "  f1.write(\"parveen jnagra\")\n"
      ],
      "metadata": {
        "id": "vzWrG5n0z5R0"
      },
      "execution_count": null,
      "outputs": []
    },
    {
      "cell_type": "code",
      "source": [
        "#2. Write a Python program to read the contents of a file and print each line ?\n",
        "try:\n",
        "  with open (\"games.txt\",\"w\") as g: # creating and writing some data in file\n",
        "    g.write(\"GTA 5 \\n RDR2 \\n CLASH OF CLAINS \\n BGMI \\n\")\n",
        "    g.write(\"some games are listed here\")\n",
        "except Exception as e:  # handling excetion\n",
        "  print(\"the error is \")\n",
        "\n",
        "else: # in else block reading the file\n",
        "  print(\"reading the above defined file\")\n",
        "  with open (\"games.txt\",\"r\") as g:\n",
        "    for a in g:\n",
        "      print(a)\n",
        "  print(\"this is else block\")\n",
        "finally:\n",
        "  print(\"all task have been done\")\n"
      ],
      "metadata": {
        "colab": {
          "base_uri": "https://localhost:8080/"
        },
        "id": "ufwGqQ382Pg8",
        "outputId": "0bb216c1-895f-4302-af0e-4287eb101df3"
      },
      "execution_count": null,
      "outputs": [
        {
          "output_type": "stream",
          "name": "stdout",
          "text": [
            "reading the above defined file\n",
            "GTA 5 \n",
            "\n",
            " RDR2 \n",
            "\n",
            " CLASH OF CLAINS \n",
            "\n",
            " BGMI \n",
            "\n",
            "some games are listed here\n",
            "this is else block\n",
            "all task have been done\n"
          ]
        }
      ]
    },
    {
      "cell_type": "code",
      "source": [
        "#3. How would you handle a case where the file doesn't exist while trying to open it for reading ?\n",
        "try:\n",
        "  f = open(\"file2.txt\",\"r\")\n",
        "except FileNotFoundError as f:\n",
        "  print(\"here we are handing the file not found excetion : \",f)\n",
        "finally:\n",
        "  print(\"error is has been handled succfully\")"
      ],
      "metadata": {
        "colab": {
          "base_uri": "https://localhost:8080/"
        },
        "id": "6pjtqDmr3irf",
        "outputId": "365097e0-6b0b-41ae-acbd-e4fd7abe9016"
      },
      "execution_count": null,
      "outputs": [
        {
          "output_type": "stream",
          "name": "stdout",
          "text": [
            "here we are handing the file not found excetion :  [Errno 2] No such file or directory: 'file2.txt'\n",
            "error is has been handled succfully\n"
          ]
        }
      ]
    },
    {
      "cell_type": "code",
      "source": [
        "#4.  Write a Python script that reads from one file and writes its content to another file ?\n",
        "# reading from game file\n",
        "with open(\"games.txt\",\"r\") as g:\n",
        "  a = g.read()\n",
        "# print(a)\n",
        "\n",
        "with open (\"newfile.txt\",\"w\") as f2 : # now this file is storing  the all data from above file\n",
        "  f2.write(a)\n",
        "  f2.write(\"\\n call of duty\")  # added new value too\n",
        "\n",
        "# here checking our new file data\n",
        "with open (\"newfile.txt\",\"r\") as nf:\n",
        "  b = nf.read()\n",
        "print(b)\n"
      ],
      "metadata": {
        "colab": {
          "base_uri": "https://localhost:8080/"
        },
        "id": "cGOBZ2Xe47OX",
        "outputId": "c56d8810-e848-46e6-cca5-4918247e4303"
      },
      "execution_count": null,
      "outputs": [
        {
          "output_type": "stream",
          "name": "stdout",
          "text": [
            "GTA 5 \n",
            " RDR2 \n",
            " CLASH OF CLAINS \n",
            " BGMI \n",
            "some games are listed here\n",
            " call of duty\n"
          ]
        }
      ]
    },
    {
      "cell_type": "code",
      "source": [
        "#5. F How would you catch and handle division by zero error in Python ?\n",
        "try:\n",
        "  18 / 0\n",
        "except ZeroDivisionError as e: # handling the zero division error and later we updted the values in except block\n",
        "  print(\"the error is -\",e)\n",
        "  print(\"new output =\",18 / 2)"
      ],
      "metadata": {
        "colab": {
          "base_uri": "https://localhost:8080/"
        },
        "id": "79VE_3Ac6KLR",
        "outputId": "c9a0d700-6fce-4c0c-a2b0-d5826aba37ba"
      },
      "execution_count": null,
      "outputs": [
        {
          "output_type": "stream",
          "name": "stdout",
          "text": [
            "the error is - division by zero\n",
            "new output = 9.0\n"
          ]
        }
      ]
    },
    {
      "cell_type": "code",
      "source": [
        "#6. Write a Python program that logs an error message to a log file when a division by zero exception occurs ?\n",
        "import logging\n",
        "\n",
        "\n",
        "def devide(a,b):\n",
        "    return a / b\n",
        "\n",
        "logging.basicConfig(filename=\"zero.log\",level=logging.INFO)\n",
        "\n",
        "\n",
        "try:\n",
        "    devide(10,0) # here we have called above devide function which takes two arguments for devide !\n",
        "    logging.info(\"devide is being done over values\")\n",
        "except ZeroDivisionError as e:\n",
        "    print(\"the error massag is -\",e)\n",
        "    logging.error(\"zero is involved in our devision \")\n",
        "    logging.shutdown()\n",
        "else:\n",
        "    print(\"else block is being exixuted\") # it will be exicuted only when try block has been succefull\n",
        "    logging.shutdown()"
      ],
      "metadata": {
        "id": "S6FYynSN6fpu",
        "colab": {
          "base_uri": "https://localhost:8080/"
        },
        "outputId": "114f021e-f859-40c5-abf6-5fce617d1d33"
      },
      "execution_count": null,
      "outputs": [
        {
          "output_type": "stream",
          "name": "stderr",
          "text": [
            "ERROR:root:zero is involved in our devision \n"
          ]
        },
        {
          "output_type": "stream",
          "name": "stdout",
          "text": [
            "the error massag is - division by zero\n"
          ]
        }
      ]
    },
    {
      "cell_type": "code",
      "source": [
        "#7. How do you log information at different levels (INFO, ERROR, WARNING) in Python using the logging module ?\n",
        "import logging\n",
        "logging.basicConfig(filename=\"games.log\",level=logging.DEBUG)\n",
        "# logging information at diffrent diffrent levels .\n",
        "logging.debug(\"here our games are listed - GTA 5, RDR2 , PUBG , ASSIAN VREED VALHALA\")\n",
        "logging.info(\"all games are working fine\")\n",
        "logging.warning(\"pubg mobile is causing an error to main directory which effects backend files\")\n",
        "logging.error(\"one game GTA 5 is priated can harm the main files of system\")\n",
        "logging.shutdown()"
      ],
      "metadata": {
        "id": "AIGpxKe5-Pkf",
        "colab": {
          "base_uri": "https://localhost:8080/"
        },
        "outputId": "af79b090-0859-412e-e87d-ddf290ff9ba7"
      },
      "execution_count": null,
      "outputs": [
        {
          "output_type": "stream",
          "name": "stderr",
          "text": [
            "WARNING:root:pubg mobile is causing an error to main directory which effects backend files\n",
            "ERROR:root:one game GTA 5 is priated can harm the main files of system\n"
          ]
        }
      ]
    },
    {
      "cell_type": "code",
      "source": [
        "#8. Write a program to handle a file opening error using exception handling ?\n",
        "try:\n",
        "  file3 = open (\"phones.txt\",\"r\")\n",
        "except  FileNotFoundError as e:\n",
        "  print(\"the error is - \",e)\n",
        "  print(\"handling the above error by creating new file of phones \")\n",
        "  with open (\"phones.txt\",\"w\") as ph:\n",
        "    ph.write(\"redmi note 13 pro \\n cmf phone 1 \\n nothing phone 2a\")\n",
        "    print(\"new file has been created and content loaded\")\n",
        "finally:\n",
        "  with open (\"phones.txt\",\"r\") as ph:\n",
        "    print(ph.name)\n",
        "    print(ph.mode)\n",
        "    print(\"file error has been rectifed\")"
      ],
      "metadata": {
        "colab": {
          "base_uri": "https://localhost:8080/"
        },
        "id": "u_f7O_cMKmwA",
        "outputId": "48580587-51e8-4e1d-84a3-8fb9e5784e07"
      },
      "execution_count": null,
      "outputs": [
        {
          "output_type": "stream",
          "name": "stdout",
          "text": [
            "the error is -  [Errno 2] No such file or directory: 'phones.txt'\n",
            "handling the above error by creating new file of phones \n",
            "new file has been created and content loaded\n",
            "phones.txt\n",
            "r\n",
            "file error has been rectifed\n"
          ]
        }
      ]
    },
    {
      "cell_type": "code",
      "source": [
        "# 9.  How can you read a file line by line and store its content in a list in Python ?\n",
        "\n",
        "list1 =[]\n",
        "def content (file):\n",
        "  g= open (file,\"r\")\n",
        "  for a in g:\n",
        "    list1.append(a)\n",
        "  print(list1)       # here we have added all above file content inside an list\n",
        "\n",
        "content(\"phones.txt\")        # calling the function"
      ],
      "metadata": {
        "colab": {
          "base_uri": "https://localhost:8080/"
        },
        "id": "vNmTODRPLR4U",
        "outputId": "f057012d-fbbf-4cab-b479-70f358dba63e"
      },
      "execution_count": null,
      "outputs": [
        {
          "output_type": "stream",
          "name": "stdout",
          "text": [
            "['redmi note 13 pro \\n', ' cmf phone 1 \\n', ' nothing phone 2a']\n"
          ]
        }
      ]
    },
    {
      "cell_type": "code",
      "source": [
        "#10. How can you append data to an existing file in Python ?\n",
        "# a function which takes any file and apend data in it\n",
        "def update (file):\n",
        "  with open(file,\"a\") as ff:\n",
        "    ff.write(\"\\n aman kumar \\n vishal jangra \\n pawan kumar \\n avinash singh \\n nikhil \")\n",
        "    ff.write(\"\\n we have added some names in our file\")\n",
        "\n",
        "  with open (file,\"r\") as ff: # opening for reading\n",
        "    for a in ff:\n",
        "      print(a)\n",
        "\n",
        "update(\"file4.txt\")     # calling the function by passing file as an argument"
      ],
      "metadata": {
        "colab": {
          "base_uri": "https://localhost:8080/"
        },
        "id": "OBf3M5XGU-fB",
        "outputId": "308e6036-91e3-4d07-ecce-5091e089b730"
      },
      "execution_count": null,
      "outputs": [
        {
          "output_type": "stream",
          "name": "stdout",
          "text": [
            "\n",
            "\n",
            " aman kumar \n",
            "\n",
            " vishal jangra \n",
            "\n",
            " pawan kumar \n",
            "\n",
            " avinash singh \n",
            "\n",
            " nikhil \n",
            "\n",
            " we have added some names in our file\n"
          ]
        }
      ]
    },
    {
      "cell_type": "code",
      "source": [
        "#11. Write a Python program that uses a try-except block to handle an error when attempting to access a dictionary key that doesn't exist ?\n",
        "try:\n",
        "  dic = {\"name\":\"parveen\",\"age\":17,\"place\":\"haryana\"}\n",
        "  dic[\"weight\"]\n",
        "except KeyError as k:\n",
        "  print(\"the pertucller key we are trying to access does not exist = \",k)\n"
      ],
      "metadata": {
        "colab": {
          "base_uri": "https://localhost:8080/"
        },
        "id": "SMudB_dEXDO_",
        "outputId": "730b5772-554e-4622-868a-91b77b2a5f2d"
      },
      "execution_count": null,
      "outputs": [
        {
          "output_type": "stream",
          "name": "stdout",
          "text": [
            "the pertucller key we are trying to access does not exist =  'weight'\n"
          ]
        }
      ]
    },
    {
      "cell_type": "code",
      "source": [
        "#12. Write a program that demonstrates using multiple except blocks to handle different types of exceptions ?\n",
        "try:\n",
        "  12 + \"25\"\n",
        "except ZeroDivisionError as n: # either this\n",
        "  print(\"the error is = \",n)\n",
        "  print(\"handlng error in another way -\", 340 / 2)\n",
        "except TypeError as t: # or this\n",
        "  print(\"the error massage -\",t)\n",
        "  print(\"handling the above error by\",12 + int(25))\n",
        "except Exception as e: # in rest cases this if above both are not matching\n",
        "  print(\"capturing -\",e)"
      ],
      "metadata": {
        "colab": {
          "base_uri": "https://localhost:8080/"
        },
        "id": "SI0Fo5bTbNSJ",
        "outputId": "5b033b5c-350f-4fa5-ea3e-849d17bb1ec5"
      },
      "execution_count": null,
      "outputs": [
        {
          "output_type": "stream",
          "name": "stdout",
          "text": [
            "the error massage - unsupported operand type(s) for +: 'int' and 'str'\n",
            "handling the above error by 37\n"
          ]
        }
      ]
    },
    {
      "cell_type": "code",
      "source": [
        "#13. How would you check if a file exists before attempting to read it in Python ?\n",
        "# function to check any file existance\n",
        "import os\n",
        "def file_check1(file_name):\n",
        "  if os.path.exists(file_name):\n",
        "    print(f\"{file_name} exists therofor we can read it\")\n",
        "    with open (file_name,\"r\") as f:\n",
        "      for a in f:\n",
        "        print(a)\n",
        "  else:\n",
        "    print(f\"{file_name} does not exist therfor can not be read\")\n",
        "\n",
        "file_check1(\"games.txt\")  # first case\n",
        "file_check1(\"file3.txt\") # second case"
      ],
      "metadata": {
        "colab": {
          "base_uri": "https://localhost:8080/"
        },
        "id": "BWwc-Tqkbcv5",
        "outputId": "4149c08a-8c92-4af3-eef7-0f1bb249a47d"
      },
      "execution_count": null,
      "outputs": [
        {
          "output_type": "stream",
          "name": "stdout",
          "text": [
            "games.txt exists therofor we can read it\n",
            "GTA 5 \n",
            "\n",
            " RDR2 \n",
            "\n",
            " CLASH OF CLAINS \n",
            "\n",
            " BGMI \n",
            "\n",
            "some games are listed here\n",
            "file3.txt does not exist therfor can not be read\n"
          ]
        }
      ]
    },
    {
      "cell_type": "code",
      "source": [
        "#14. Write a program that uses the logging module to log both informational and error messages\n",
        "import logging\n",
        "score = int(input(\"describe your socre\"))\n",
        "logging.basicConfig(filename=\"scholership.log\",level=logging.INFO)\n",
        "\n",
        "def evaluate_score(score):\n",
        "    if score >= 30:\n",
        "        if 30 < score <= 50:\n",
        "            logging.info(\"you have socred more then 30 mean got passed\")\n",
        "            logging.error(\"but still due to low score then 50 therefor not elible for scholership\")\n",
        "            print(\"your score is more then 30 but less then 50 good \")\n",
        "        else:\n",
        "            logging.info(\"congratulation you are elible for scholership\")\n",
        "            print(\"your score is grater then 50 excillent \")\n",
        "    else:\n",
        "        logging.info(\"you scored lessro then 30 got filed\")\n",
        "        logging.error(\"even not eligble for scholership\")\n",
        "        print(\"your score is lower then 30 very bad\")\n",
        "        logging.shutdown()\n",
        "\n",
        "evaluate_score(score) # passed the above input variable\n",
        "# pasing the above both info and error log massage inside our evaluate_score function .."
      ],
      "metadata": {
        "colab": {
          "base_uri": "https://localhost:8080/"
        },
        "id": "EEEGnQ-nbkg0",
        "outputId": "90dabc6d-36b0-4009-a7ca-924e322a01e9"
      },
      "execution_count": null,
      "outputs": [
        {
          "name": "stdout",
          "output_type": "stream",
          "text": [
            "describe your socre45\n"
          ]
        },
        {
          "output_type": "stream",
          "name": "stderr",
          "text": [
            "ERROR:root:but still due to low score then 50 therefor not elible for scholership\n"
          ]
        },
        {
          "output_type": "stream",
          "name": "stdout",
          "text": [
            "your score is more then 30 but less then 50 good \n"
          ]
        }
      ]
    },
    {
      "cell_type": "code",
      "source": [
        "#15. Write a Python program that prints the content of a file and handles the case when the file is empty ?\n"
      ],
      "metadata": {
        "id": "WGEIwDNVc7a6",
        "colab": {
          "base_uri": "https://localhost:8080/"
        },
        "outputId": "0c3b30b6-a2f0-456b-f273-424481baac6d"
      },
      "execution_count": null,
      "outputs": [
        {
          "output_type": "stream",
          "name": "stdout",
          "text": [
            "redmi note 13 pro \n",
            "\n",
            " cmf phone 1 \n",
            "\n",
            " nothing phone 2a\n"
          ]
        }
      ]
    },
    {
      "cell_type": "code",
      "source": [
        "#15. Write a Python program that prints the content of a file and handles the case when the file is empty ?\n",
        "def search_file (file):\n",
        "  with open (file,\"r\") as a1:\n",
        "    fileA=a1.read()\n",
        "    #print(fileA)\n",
        "\n",
        "    if fileA ==\"\":\n",
        "      print(f\"can not read the file: {file} beacsue its an empty file\")\n",
        "    else:\n",
        "      print(f\"reading the file: {file} and printing results\")\n",
        "      print(fileA)\n",
        "\n",
        "search_file(\"notebooks.txt\")   # case A\n",
        "search_file(\"books.txt\")  # case B"
      ],
      "metadata": {
        "colab": {
          "base_uri": "https://localhost:8080/"
        },
        "id": "VZSrIRPzopBp",
        "outputId": "18f3a63f-085b-4fe8-cdf7-2cf1ff1d026c"
      },
      "execution_count": null,
      "outputs": [
        {
          "output_type": "stream",
          "name": "stdout",
          "text": [
            "reading the file: notebooks.txt and printing results\n",
            "notebooke 1 \n",
            "notebook 2\n",
            "can not read the file: books.txt beacsue its an empty file\n"
          ]
        }
      ]
    },
    {
      "cell_type": "code",
      "source": [
        "#16. Demonstrate how to use memory profiling to check the memory usage of a small program ?\n",
        "\n",
        "from memory_profiler import profile\n",
        "\n",
        "@profile\n",
        "def small_list ():\n",
        "    print(\"list is being started\")\n",
        "    d = [a for a in range(50000)] # creating an list\n",
        "    print(\"list has been finished\")\n",
        "    return d\n",
        "\n",
        "if __name__ ==\"__main__\":\n",
        "    small_list()"
      ],
      "metadata": {
        "id": "xjLJVs55r2pS"
      },
      "execution_count": null,
      "outputs": []
    },
    {
      "cell_type": "code",
      "source": [
        "#17.   Write a Python program to create and write a list of numbers to a file, one number per line ?\n",
        "list1 = [43,46,68,97,956,332,3224,54,7,78,98,13,87,98,32,35]  # created a list\n",
        "l2 = str(list1) # cahnged it into str\n",
        "\n",
        "try:\n",
        "  with open (\"numbers.txt\",\"w\") as nums:\n",
        "    for number in l2: # looping over above list\n",
        "      nums.write(f\"{number} \\n\")  # adding each and every numbers line by line\n",
        "except Exception as e:\n",
        "  print(\"the eror is -\",e)\n",
        "else:\n",
        "  with open (\"numbers.txt\",\"r\") as nums: # reading the file for demonstration obejctive\n",
        "    a3 = nums.read()\n",
        "  print(a3)"
      ],
      "metadata": {
        "colab": {
          "base_uri": "https://localhost:8080/"
        },
        "id": "wtUZFPcrugQE",
        "outputId": "a570c4ab-2cf7-46d3-de4f-10a93356ba19"
      },
      "execution_count": null,
      "outputs": [
        {
          "output_type": "stream",
          "name": "stdout",
          "text": [
            "[ \n",
            "4 \n",
            "3 \n",
            ", \n",
            "  \n",
            "4 \n",
            "6 \n",
            ", \n",
            "  \n",
            "6 \n",
            "8 \n",
            ", \n",
            "  \n",
            "9 \n",
            "7 \n",
            ", \n",
            "  \n",
            "9 \n",
            "5 \n",
            "6 \n",
            ", \n",
            "  \n",
            "3 \n",
            "3 \n",
            "2 \n",
            ", \n",
            "  \n",
            "3 \n",
            "2 \n",
            "2 \n",
            "4 \n",
            ", \n",
            "  \n",
            "5 \n",
            "4 \n",
            ", \n",
            "  \n",
            "7 \n",
            ", \n",
            "  \n",
            "7 \n",
            "8 \n",
            ", \n",
            "  \n",
            "9 \n",
            "8 \n",
            ", \n",
            "  \n",
            "1 \n",
            "3 \n",
            ", \n",
            "  \n",
            "8 \n",
            "7 \n",
            ", \n",
            "  \n",
            "9 \n",
            "8 \n",
            ", \n",
            "  \n",
            "3 \n",
            "2 \n",
            ", \n",
            "  \n",
            "3 \n",
            "5 \n",
            "] \n",
            "\n"
          ]
        }
      ]
    },
    {
      "cell_type": "code",
      "source": [
        "#19. Write a program that handles both IndexError and KeyError using a try-except block ?\n",
        "li = [35,6,68,7,35]\n",
        "info ={\"name\":\"virat\",\"country\":\"india\"}\n",
        "\n",
        "try:\n",
        "  info[\"age\"] # here we can pass value according to index and key ..\n",
        "except IndexError as i: #handling index error\n",
        "  print(\"this is out of index -\",i)\n",
        "  print(\"here we are handling the above error -\",li[3])\n",
        "except KeyError as k: # handling key error\n",
        "  print(\"this key does not exist -\",k)\n",
        "  print(\"handling the key error =\",info[\"name\"])"
      ],
      "metadata": {
        "colab": {
          "base_uri": "https://localhost:8080/"
        },
        "id": "02YlJX-UuiIu",
        "outputId": "111a5c61-8530-4665-e6c7-3e7465790f90"
      },
      "execution_count": null,
      "outputs": [
        {
          "output_type": "stream",
          "name": "stdout",
          "text": [
            "this key does not exist - 'age'\n",
            "handling the key error = virat\n"
          ]
        }
      ]
    },
    {
      "cell_type": "code",
      "source": [
        "#20.  How would you open a file and read its contents using a context manager in Python ?\n",
        "def reading_file(file_name):\n",
        "  try:\n",
        "    with open (file_name,) as r: # reading the file using context manager ( with )\n",
        "      reading=r.read()\n",
        "      print(f\"reading the : {file_name} file\")\n",
        "    print(reading)\n",
        "  except FileNotFoundError as e: # handling error if file not found\n",
        "    print(\"the error is -\",e)\n",
        "  except Exception as e: # handling unexpected error\n",
        "    print(\"captures the error -\",e)\n",
        "\n",
        "reading_file(\"phones.txt\") # instance1\n",
        "reading_file(\"notebooks.txt\") # instance 2"
      ],
      "metadata": {
        "colab": {
          "base_uri": "https://localhost:8080/"
        },
        "id": "EftsRPiSuo7V",
        "outputId": "333dc52c-daa1-4e3b-9284-0d69d22c465b"
      },
      "execution_count": 93,
      "outputs": [
        {
          "output_type": "stream",
          "name": "stdout",
          "text": [
            "reading the : phones.txt file\n",
            "redmi note 13 pro \n",
            " cmf phone 1 \n",
            " nothing phone 2a\n",
            "reading the : notebooks.txt file\n",
            "notebooke 1 \n",
            "notebook 2\n"
          ]
        }
      ]
    },
    {
      "cell_type": "code",
      "source": [
        "#21. Write a Python program that reads a file and prints the number of occurrences of a specific word ?\n",
        "import os\n",
        "word = input(\"write you word : \")\n",
        "\n",
        "def reads_occurrences (file):\n",
        "  try:\n",
        "    with open (file,\"r\") as rr:\n",
        "      read1 = rr.read()\n",
        "  except FileNotFoundError as e:\n",
        "    print(\"the file does not exits - \",e)\n",
        "  else:\n",
        "    print(\"else block is being printed\")\n",
        "    if read1.strip():\n",
        "      words = read1.split()  # spliting the eontire file content and assigning them to words\n",
        "      if any(w == word for w in words):\n",
        "          occurence =words.count(word)\n",
        "          print(f\"the defined {word} ocuured in file :{occurence} times\")\n",
        "      else:\n",
        "          print(f\"the word {word} did not appear in the file\")\n",
        "    else:\n",
        "      print(f\"the current file -{file} is empty\")\n",
        "\n",
        "reads_occurrences(\"file4.txt\")  # for enstance\n",
        "\n"
      ],
      "metadata": {
        "id": "X2tVlO8PwnIZ",
        "colab": {
          "base_uri": "https://localhost:8080/"
        },
        "outputId": "a5a976da-eb52-4c4d-a3e3-c966ff479ff8"
      },
      "execution_count": 12,
      "outputs": [
        {
          "output_type": "stream",
          "name": "stdout",
          "text": [
            "write you word : pawan\n",
            "else block is being printed\n",
            "the defined pawan ocuured in file :3 times\n"
          ]
        }
      ]
    },
    {
      "cell_type": "code",
      "source": [
        "#22. How can you check if a file is empty before attempting to read its contents?\n",
        "\n",
        "def search_file (file):\n",
        "  with open (file,\"r\") as a1:\n",
        "    fileA=a1.read()\n",
        "    #print(fileA)\n",
        "\n",
        "    if fileA ==\"\":\n",
        "      print(f\"can not read the file: {file} beacsue its an empty file\")\n",
        "    else:\n",
        "      print(f\"reading the file: {file} and printing results\")\n",
        "      print(fileA)\n",
        "\n",
        "search_file(\"new.txt\")  # case A\n",
        "search_file(\"games.txt\")  # case b"
      ],
      "metadata": {
        "id": "iu0VYp_hSBpB",
        "colab": {
          "base_uri": "https://localhost:8080/"
        },
        "outputId": "4b199e7e-c900-44e7-b55a-06bba52df01e"
      },
      "execution_count": 25,
      "outputs": [
        {
          "output_type": "stream",
          "name": "stdout",
          "text": [
            "can not read the file: new.txt beacsue its an empty file\n",
            "reading the file: games.txt and printing results\n",
            "GTA 5 \n",
            " RDR2 \n",
            " CLASH OF CLAINS \n",
            " BGMI \n",
            "some games are listed here\n"
          ]
        }
      ]
    },
    {
      "cell_type": "code",
      "source": [
        "#23 . Write a Python program that writes to a log file when an error occurs during file handling ?\n",
        "import logging\n",
        "logging.basicConfig(filename=\"add.log\",level=logging.WARNING,format=\"%(asctime)s - %(levelname)s - %(message)s\")\n",
        "\n",
        "def addition (a,b):\n",
        "    return a + b\n",
        "addition(35,6)\n",
        "\n",
        "def programe ():\n",
        "    try:\n",
        "        addition(10,\"34\")  # values passed intentionlly to raise error\n",
        "    except TypeError as e:\n",
        "        logging.error(\"type error encountred while adding values of str and int with each other: %s\")\n",
        "        print(\"the error is -\",e)\n",
        "    finally:\n",
        "        logging.shutdown()\n",
        "\n",
        "programe()"
      ],
      "metadata": {
        "colab": {
          "base_uri": "https://localhost:8080/"
        },
        "id": "0aenKvx7i0Av",
        "outputId": "f043b51a-a443-4171-c713-f88d7f8a4114"
      },
      "execution_count": 31,
      "outputs": [
        {
          "output_type": "stream",
          "name": "stderr",
          "text": [
            "ERROR:root:type error encountred while adding values of str and int with each other: %s\n"
          ]
        },
        {
          "output_type": "stream",
          "name": "stdout",
          "text": [
            "the error is - unsupported operand type(s) for +: 'int' and 'str'\n"
          ]
        }
      ]
    },
    {
      "cell_type": "code",
      "source": [],
      "metadata": {
        "id": "Js-193Ni2_K-"
      },
      "execution_count": 27,
      "outputs": []
    },
    {
      "cell_type": "code",
      "source": [],
      "metadata": {
        "id": "r9bPvxf2mZSR"
      },
      "execution_count": null,
      "outputs": []
    }
  ]
}